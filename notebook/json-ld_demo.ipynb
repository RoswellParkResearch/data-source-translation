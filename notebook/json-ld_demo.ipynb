{
 "cells": [
  {
   "cell_type": "code",
   "execution_count": 18,
   "metadata": {},
   "outputs": [
    {
     "name": "stdout",
     "output_type": "stream",
     "text": [
      "{\n",
      "\"@context\":\n",
      "  {\n",
      "     \"@vocab\": \"http://foo.com/\"\n",
      "  },\n",
      "  \"@id\": \"http://example.com/places#BrewEats\",\n",
      "  \"@type\": \"Restaurant\",\n",
      "  \"name\": [\"Brew Eats\", \"foo\"],\n",
      "   \"databaseId\": \"23987520\"\n",
      "}\n"
     ]
    }
   ],
   "source": [
    "######################################################################\n",
    "# Demo of how to use RDFLib with JSON-LD to translate json to rdf\n",
    "#\n",
    "# reference/intesting links:\n",
    "# https://etl.linkedpipes.com/tutorials/how-to/map_json_to_rdf\n",
    "# https://etl.linkedpipes.com/tutorials/how-to/map_rdf_properties\n",
    "# https://etl.linkedpipes.com/tutorials/csv-to-rdf/describe_semantics\n",
    "# https://github.com/digitalbazaar/pyld\n",
    "######################################################################\n",
    "\n",
    "## requirment make sure rdflib and rdflib-jsonld are installed\n",
    "# conda install -c conda-forge rdflib \n",
    "# conda install -c bioconda rdflib-jsonld \n",
    "\n",
    "# import libraries, not sure the serializer and plugin libs is needed\n",
    "from rdflib import Graph, ConjunctiveGraph, plugin\n",
    "from rdflib.serializer import Serializer\n",
    "import pandas as pds\n",
    "import json\n",
    "\n",
    "# create a simple json doc with a json-ld context\n",
    "doc = \"\"\"{\n",
    "\"@context\":\n",
    "  {\n",
    "     \"@vocab\": \"http://foo.com/\"\n",
    "  },\n",
    "  \"@id\": \"http://example.com/places#BrewEats\",\n",
    "  \"@type\": \"Restaurant\",\n",
    "  \"name\": [\"Brew Eats\", \"foo\"],\n",
    "   \"databaseId\": \"23987520\"\n",
    "}\"\"\"\n",
    "\n",
    "print(doc)"
   ]
  },
  {
   "cell_type": "code",
   "execution_count": 7,
   "metadata": {},
   "outputs": [
    {
     "name": "stdout",
     "output_type": "stream",
     "text": [
      "<http://example.com/places#BrewEats> <http://foo.com/name> \"Brew Eats\" .\n",
      "<http://example.com/places#BrewEats> <http://www.w3.org/1999/02/22-rdf-syntax-ns#type> <http://foo.com/Restaurant> .\n",
      "<http://example.com/places#BrewEats> <http://foo.com/databaseId> \"23987520\" .\n",
      "<http://example.com/places#BrewEats> <http://foo.com/name> \"foo\" .\n",
      "\n",
      "\n"
     ]
    }
   ],
   "source": [
    "# load doc into rdflib and process\n",
    "g = Graph().parse(data=doc, format='json-ld')\n",
    "print(g.serialize(format=\"nt\").decode('utf-8'))\n",
    "\n",
    "## things to note:\n",
    "# - the @vocab sets the default/base prefix to 'htt://foo.com/'\n",
    "# - the base is overriden in BrewEats uri\n",
    "# - in the json doc, the name key has a list of values: [\"Brew Eats\", \"foo\"]\n",
    "#   but the jsonld processor splits the list into multiple triples, \n",
    "# \n",
    "#   <http://example.com/places#BrewEats> <http://foo.com/name> \"Brew Eats\" .\n",
    "#   <http://example.com/places#BrewEats> <http://foo.com/name> \"foo\" .\n",
    "#\n",
    "#   this is good ...  \n"
   ]
  },
  {
   "cell_type": "code",
   "execution_count": 9,
   "metadata": {},
   "outputs": [
    {
     "name": "stdout",
     "output_type": "stream",
     "text": [
      "@prefix : <http://foo.com/> .\n",
      "@prefix rdf: <http://www.w3.org/1999/02/22-rdf-syntax-ns#> .\n",
      "@prefix rdfs: <http://www.w3.org/2000/01/rdf-schema#> .\n",
      "@prefix xml: <http://www.w3.org/XML/1998/namespace> .\n",
      "@prefix xsd: <http://www.w3.org/2001/XMLSchema#> .\n",
      "\n",
      "<http://example.com/places#BrewEats> a :Restaurant ;\n",
      "    :databaseId \"23987520\" ;\n",
      "    :name \"Brew Eats\",\n",
      "        \"foo\" .\n",
      "\n",
      "\n"
     ]
    }
   ],
   "source": [
    "# output in turtle\n",
    "# notice the shortened/abbreviated syntax\n",
    "\n",
    "print(g.serialize(format=\"turtle\").decode('utf-8'))"
   ]
  },
  {
   "cell_type": "code",
   "execution_count": 11,
   "metadata": {},
   "outputs": [
    {
     "name": "stdout",
     "output_type": "stream",
     "text": [
      "\n",
      "{\n",
      "  \"@context\": {\n",
      "    \"dc\": \"http://purl.org/dc/elements/1.1/\",\n",
      "    \"ex\": \"http://example.org/vocab#\",\n",
      "    \"xsd\": \"http://www.w3.org/2001/XMLSchema#\",\n",
      "    \"ex:contains\": {\n",
      "      \"@type\": \"@id\"\n",
      "    }\n",
      "  },\n",
      "  \"@graph\": [\n",
      "    {\n",
      "      \"@id\": \"http://example.org/library\",\n",
      "      \"@type\": \"ex:Library\",\n",
      "      \"ex:contains\": \"http://example.org/library/the-republic\"\n",
      "    },\n",
      "    {\n",
      "      \"@id\": \"http://example.org/library/the-republic\",\n",
      "      \"@type\": \"ex:Book\",\n",
      "      \"dc:creator\": \"Plato\",\n",
      "      \"dc:title\": \"The Republic\",\n",
      "      \"ex:contains\": \"http://example.org/library/the-republic#introduction\"\n",
      "    },\n",
      "    {\n",
      "      \"@id\": \"http://example.org/library/the-republic#introduction\",\n",
      "      \"@type\": \"ex:Chapter\",\n",
      "      \"dc:description\": \"An introductory chapter on The Republic.\",\n",
      "      \"dc:title\": \"The Introduction\"\n",
      "    }\n",
      "  ]\n",
      "}\n",
      "\n"
     ]
    }
   ],
   "source": [
    "# here is a more complex example with multiple records\n",
    "books = \"\"\"\n",
    "{\n",
    "  \"@context\": {\n",
    "    \"dc\": \"http://purl.org/dc/elements/1.1/\",\n",
    "    \"ex\": \"http://example.org/vocab#\",\n",
    "    \"xsd\": \"http://www.w3.org/2001/XMLSchema#\",\n",
    "    \"ex:contains\": {\n",
    "      \"@type\": \"@id\"\n",
    "    }\n",
    "  },\n",
    "  \"@graph\": [\n",
    "    {\n",
    "      \"@id\": \"http://example.org/library\",\n",
    "      \"@type\": \"ex:Library\",\n",
    "      \"ex:contains\": \"http://example.org/library/the-republic\"\n",
    "    },\n",
    "    {\n",
    "      \"@id\": \"http://example.org/library/the-republic\",\n",
    "      \"@type\": \"ex:Book\",\n",
    "      \"dc:creator\": \"Plato\",\n",
    "      \"dc:title\": \"The Republic\",\n",
    "      \"ex:contains\": \"http://example.org/library/the-republic#introduction\"\n",
    "    },\n",
    "    {\n",
    "      \"@id\": \"http://example.org/library/the-republic#introduction\",\n",
    "      \"@type\": \"ex:Chapter\",\n",
    "      \"dc:description\": \"An introductory chapter on The Republic.\",\n",
    "      \"dc:title\": \"The Introduction\"\n",
    "    }\n",
    "  ]\n",
    "}\n",
    "\"\"\"\n",
    "print(books)\n"
   ]
  },
  {
   "cell_type": "code",
   "execution_count": 14,
   "metadata": {},
   "outputs": [
    {
     "name": "stdout",
     "output_type": "stream",
     "text": [
      "<http://example.org/library/the-republic> <http://www.w3.org/1999/02/22-rdf-syntax-ns#type> <http://example.org/vocab#Book> .\n",
      "<http://example.org/library/the-republic#introduction> <http://purl.org/dc/elements/1.1/title> \"The Introduction\" .\n",
      "<http://example.org/library/the-republic> <http://purl.org/dc/elements/1.1/creator> \"Plato\" .\n",
      "<http://example.org/library/the-republic> <http://purl.org/dc/elements/1.1/title> \"The Republic\" .\n",
      "<http://example.org/library> <http://www.w3.org/1999/02/22-rdf-syntax-ns#type> <http://example.org/vocab#Library> .\n",
      "<http://example.org/library/the-republic#introduction> <http://purl.org/dc/elements/1.1/description> \"An introductory chapter on The Republic.\" .\n",
      "<http://example.org/library/the-republic> <http://example.org/vocab#contains> <http://example.org/library/the-republic#introduction> .\n",
      "<http://example.org/library> <http://example.org/vocab#contains> <http://example.org/library/the-republic> .\n",
      "<http://example.org/library/the-republic#introduction> <http://www.w3.org/1999/02/22-rdf-syntax-ns#type> <http://example.org/vocab#Chapter> .\n",
      "\n",
      "\n"
     ]
    }
   ],
   "source": [
    "# because you are using the graph syntax rdflib requires you a *ConjunctiveGraph*\n",
    "# https://rdflib.readthedocs.io/en/stable/apidocs/rdflib.html?highlight=conjunctivegraph#rdflib.graph.ConjunctiveGraph\n",
    "\n",
    "# I had to parse the graph in two steps, instead of single step like above\n",
    "g = ConjunctiveGraph()\n",
    "g.parse(data=books, format='json-ld')\n",
    "\n",
    "# print rdf\n",
    "print(g.serialize(format=\"nt\").decode('utf-8'))\n"
   ]
  },
  {
   "cell_type": "code",
   "execution_count": 15,
   "metadata": {},
   "outputs": [
    {
     "name": "stdout",
     "output_type": "stream",
     "text": [
      "@prefix dc: <http://purl.org/dc/elements/1.1/> .\n",
      "@prefix ex: <http://example.org/vocab#> .\n",
      "@prefix rdf: <http://www.w3.org/1999/02/22-rdf-syntax-ns#> .\n",
      "@prefix rdfs: <http://www.w3.org/2000/01/rdf-schema#> .\n",
      "@prefix xml: <http://www.w3.org/XML/1998/namespace> .\n",
      "@prefix xsd: <http://www.w3.org/2001/XMLSchema#> .\n",
      "\n",
      "<http://example.org/library> a ex:Library ;\n",
      "    ex:contains <http://example.org/library/the-republic> .\n",
      "\n",
      "<http://example.org/library/the-republic> a ex:Book ;\n",
      "    ex:contains <http://example.org/library/the-republic#introduction> ;\n",
      "    dc:creator \"Plato\" ;\n",
      "    dc:title \"The Republic\" .\n",
      "\n",
      "<http://example.org/library/the-republic#introduction> a ex:Chapter ;\n",
      "    dc:description \"An introductory chapter on The Republic.\" ;\n",
      "    dc:title \"The Introduction\" .\n",
      "\n",
      "\n"
     ]
    }
   ],
   "source": [
    "# out in turtle\n",
    "print(g.serialize(format=\"turtle\").decode('utf-8'))"
   ]
  },
  {
   "cell_type": "code",
   "execution_count": 16,
   "metadata": {},
   "outputs": [
    {
     "data": {
      "text/html": [
       "<div>\n",
       "<style scoped>\n",
       "    .dataframe tbody tr th:only-of-type {\n",
       "        vertical-align: middle;\n",
       "    }\n",
       "\n",
       "    .dataframe tbody tr th {\n",
       "        vertical-align: top;\n",
       "    }\n",
       "\n",
       "    .dataframe thead th {\n",
       "        text-align: right;\n",
       "    }\n",
       "</style>\n",
       "<table border=\"1\" class=\"dataframe\">\n",
       "  <thead>\n",
       "    <tr style=\"text-align: right;\">\n",
       "      <th></th>\n",
       "      <th>patient_id</th>\n",
       "      <th>gender</th>\n",
       "      <th>birth_date</th>\n",
       "    </tr>\n",
       "  </thead>\n",
       "  <tbody>\n",
       "    <tr>\n",
       "      <th>0</th>\n",
       "      <td>10001</td>\n",
       "      <td>M</td>\n",
       "      <td>1950-01-01</td>\n",
       "    </tr>\n",
       "    <tr>\n",
       "      <th>1</th>\n",
       "      <td>10002</td>\n",
       "      <td>F</td>\n",
       "      <td>1960-01-02</td>\n",
       "    </tr>\n",
       "    <tr>\n",
       "      <th>2</th>\n",
       "      <td>10003</td>\n",
       "      <td>M</td>\n",
       "      <td>1970-01-03</td>\n",
       "    </tr>\n",
       "    <tr>\n",
       "      <th>3</th>\n",
       "      <td>10004</td>\n",
       "      <td>F</td>\n",
       "      <td>1980-01-04</td>\n",
       "    </tr>\n",
       "    <tr>\n",
       "      <th>4</th>\n",
       "      <td>10005</td>\n",
       "      <td>M</td>\n",
       "      <td>1990-01-05</td>\n",
       "    </tr>\n",
       "    <tr>\n",
       "      <th>5</th>\n",
       "      <td>10006</td>\n",
       "      <td>F</td>\n",
       "      <td>1955-01-06</td>\n",
       "    </tr>\n",
       "    <tr>\n",
       "      <th>6</th>\n",
       "      <td>10007</td>\n",
       "      <td>M</td>\n",
       "      <td>1965-01-07</td>\n",
       "    </tr>\n",
       "    <tr>\n",
       "      <th>7</th>\n",
       "      <td>10008</td>\n",
       "      <td>F</td>\n",
       "      <td>1975-01-08</td>\n",
       "    </tr>\n",
       "    <tr>\n",
       "      <th>8</th>\n",
       "      <td>10009</td>\n",
       "      <td>M</td>\n",
       "      <td>1985-01-09</td>\n",
       "    </tr>\n",
       "    <tr>\n",
       "      <th>9</th>\n",
       "      <td>10010</td>\n",
       "      <td>F</td>\n",
       "      <td>1995-01-10</td>\n",
       "    </tr>\n",
       "  </tbody>\n",
       "</table>\n",
       "</div>"
      ],
      "text/plain": [
       "   patient_id gender  birth_date\n",
       "0       10001      M  1950-01-01\n",
       "1       10002      F  1960-01-02\n",
       "2       10003      M  1970-01-03\n",
       "3       10004      F  1980-01-04\n",
       "4       10005      M  1990-01-05\n",
       "5       10006      F  1955-01-06\n",
       "6       10007      M  1965-01-07\n",
       "7       10008      F  1975-01-08\n",
       "8       10009      M  1985-01-09\n",
       "9       10010      F  1995-01-10"
      ]
     },
     "execution_count": 16,
     "metadata": {},
     "output_type": "execute_result"
    }
   ],
   "source": [
    "### now try converting pandas dataframe to rdf using json-ld\n",
    "\n",
    "# load patients dataset\n",
    "patients = pds.ExcelFile('patients_1.xlsx').parse()\n",
    "patients"
   ]
  },
  {
   "cell_type": "code",
   "execution_count": 21,
   "metadata": {},
   "outputs": [
    {
     "name": "stdout",
     "output_type": "stream",
     "text": [
      "\"[{\\\"patient_id\\\":10001,\\\"gender\\\":\\\"M\\\",\\\"birth_date\\\":\\\"1950-01-01\\\"},{\\\"patient_id\\\":10002,\\\"gender\\\":\\\"F\\\",\\\"birth_date\\\":\\\"1960-01-02\\\"},{\\\"patient_id\\\":10003,\\\"gender\\\":\\\"M\\\",\\\"birth_date\\\":\\\"1970-01-03\\\"},{\\\"patient_id\\\":10004,\\\"gender\\\":\\\"F\\\",\\\"birth_date\\\":\\\"1980-01-04\\\"},{\\\"patient_id\\\":10005,\\\"gender\\\":\\\"M\\\",\\\"birth_date\\\":\\\"1990-01-05\\\"},{\\\"patient_id\\\":10006,\\\"gender\\\":\\\"F\\\",\\\"birth_date\\\":\\\"1955-01-06\\\"},{\\\"patient_id\\\":10007,\\\"gender\\\":\\\"M\\\",\\\"birth_date\\\":\\\"1965-01-07\\\"},{\\\"patient_id\\\":10008,\\\"gender\\\":\\\"F\\\",\\\"birth_date\\\":\\\"1975-01-08\\\"},{\\\"patient_id\\\":10009,\\\"gender\\\":\\\"M\\\",\\\"birth_date\\\":\\\"1985-01-09\\\"},{\\\"patient_id\\\":10010,\\\"gender\\\":\\\"F\\\",\\\"birth_date\\\":\\\"1995-01-10\\\"}]\"\n"
     ]
    }
   ],
   "source": [
    "# print dataframe as json\n",
    "# 'dumps' stands for 'dump string' and is used for encoding as json; I'm not sure if it is needed ...\n",
    "# https://docs.python.org/3/library/json.html\n",
    "print(json.dumps(patients.to_json(orient='records')))"
   ]
  },
  {
   "cell_type": "code",
   "execution_count": 31,
   "metadata": {},
   "outputs": [
    {
     "name": "stdout",
     "output_type": "stream",
     "text": [
      "\n",
      "{\n",
      "  \n",
      "  \"@context\":\n",
      "  {\n",
      "     \"@vocab\": \"http://foo.com/\"\n",
      "  }\n",
      ",\n",
      "  \"@graph\":\n",
      "  [{\"patient_id\":10001,\"gender\":\"M\",\"birth_date\":\"1950-01-01\"},{\"patient_id\":10002,\"gender\":\"F\",\"birth_date\":\"1960-01-02\"},{\"patient_id\":10003,\"gender\":\"M\",\"birth_date\":\"1970-01-03\"},{\"patient_id\":10004,\"gender\":\"F\",\"birth_date\":\"1980-01-04\"},{\"patient_id\":10005,\"gender\":\"M\",\"birth_date\":\"1990-01-05\"},{\"patient_id\":10006,\"gender\":\"F\",\"birth_date\":\"1955-01-06\"},{\"patient_id\":10007,\"gender\":\"M\",\"birth_date\":\"1965-01-07\"},{\"patient_id\":10008,\"gender\":\"F\",\"birth_date\":\"1975-01-08\"},{\"patient_id\":10009,\"gender\":\"M\",\"birth_date\":\"1985-01-09\"},{\"patient_id\":10010,\"gender\":\"F\",\"birth_date\":\"1995-01-10\"}]\n",
      "}\n",
      "\n"
     ]
    }
   ],
   "source": [
    "# let's create a context\n",
    "context = \"\"\"\n",
    "  \"@context\":\n",
    "  {\n",
    "     \"@vocab\": \"http://foo.com/\"\n",
    "  }\n",
    "\"\"\"\n",
    "\n",
    "# load dataframe as json string\n",
    "# data = json.dumps(patients.to_json(orient='records'))\n",
    "data = patients.to_json(orient='records')\n",
    "    \n",
    "# build context + data json-ld doc\n",
    "# see books json above for example\n",
    "doc = \"\"\"\n",
    "{\n",
    "  %s,\n",
    "  \"@graph\":\n",
    "  %s\n",
    "}\n",
    "\"\"\" % (context, data)\n",
    "\n",
    "print(doc)"
   ]
  },
  {
   "cell_type": "code",
   "execution_count": 32,
   "metadata": {},
   "outputs": [
    {
     "data": {
      "text/plain": [
       "<Graph identifier=Nc6e12f519e924d40950aa61dd0daef2d (<class 'rdflib.graph.Graph'>)>"
      ]
     },
     "execution_count": 32,
     "metadata": {},
     "output_type": "execute_result"
    }
   ],
   "source": [
    "# parse graph\n",
    "g = ConjunctiveGraph()\n",
    "g.parse(data=doc, format='json-ld')"
   ]
  },
  {
   "cell_type": "code",
   "execution_count": 33,
   "metadata": {},
   "outputs": [
    {
     "name": "stdout",
     "output_type": "stream",
     "text": [
      "_:N1e3749cb73474a1a806046c005f96668 <http://foo.com/patient_id> \"10001\"^^<http://www.w3.org/2001/XMLSchema#integer> .\n",
      "_:N3178ff77d74144b587bf67e6f55b3e6a <http://foo.com/patient_id> \"10005\"^^<http://www.w3.org/2001/XMLSchema#integer> .\n",
      "_:N878c81dac5c544cf88ed4a3bd0ccc8eb <http://foo.com/birth_date> \"1970-01-03\" .\n",
      "_:N878c81dac5c544cf88ed4a3bd0ccc8eb <http://foo.com/gender> \"M\" .\n",
      "_:N9432131d1ffb44709eeaaadb6d10efb9 <http://foo.com/birth_date> \"1985-01-09\" .\n",
      "_:N12c9f7ee914348ec86244dcabce0871d <http://foo.com/birth_date> \"1995-01-10\" .\n",
      "_:N97ab372cb9b243b9847f94eed6c11b40 <http://foo.com/birth_date> \"1965-01-07\" .\n",
      "_:N97ab372cb9b243b9847f94eed6c11b40 <http://foo.com/patient_id> \"10007\"^^<http://www.w3.org/2001/XMLSchema#integer> .\n",
      "_:N9f3d6e5315ee4cc78e41e78182bd6f41 <http://foo.com/birth_date> \"1980-01-04\" .\n",
      "_:N39bb7715b0c34b168c80d1f4d41f998b <http://foo.com/gender> \"F\" .\n",
      "_:Nec99c0c2012a405cb0e43062bc238f96 <http://foo.com/gender> \"F\" .\n",
      "_:N12c9f7ee914348ec86244dcabce0871d <http://foo.com/patient_id> \"10010\"^^<http://www.w3.org/2001/XMLSchema#integer> .\n",
      "_:N1e3749cb73474a1a806046c005f96668 <http://foo.com/birth_date> \"1950-01-01\" .\n",
      "_:N9f3d6e5315ee4cc78e41e78182bd6f41 <http://foo.com/gender> \"F\" .\n",
      "_:N97ab372cb9b243b9847f94eed6c11b40 <http://foo.com/gender> \"M\" .\n",
      "_:Nec99c0c2012a405cb0e43062bc238f96 <http://foo.com/birth_date> \"1975-01-08\" .\n",
      "_:N878c81dac5c544cf88ed4a3bd0ccc8eb <http://foo.com/patient_id> \"10003\"^^<http://www.w3.org/2001/XMLSchema#integer> .\n",
      "_:N3178ff77d74144b587bf67e6f55b3e6a <http://foo.com/birth_date> \"1990-01-05\" .\n",
      "_:N39bb7715b0c34b168c80d1f4d41f998b <http://foo.com/patient_id> \"10002\"^^<http://www.w3.org/2001/XMLSchema#integer> .\n",
      "_:N12c9f7ee914348ec86244dcabce0871d <http://foo.com/gender> \"F\" .\n",
      "_:N4efd4ff743144f72a97f4ba0f586f8b4 <http://foo.com/gender> \"F\" .\n",
      "_:N4efd4ff743144f72a97f4ba0f586f8b4 <http://foo.com/patient_id> \"10006\"^^<http://www.w3.org/2001/XMLSchema#integer> .\n",
      "_:N4efd4ff743144f72a97f4ba0f586f8b4 <http://foo.com/birth_date> \"1955-01-06\" .\n",
      "_:N9432131d1ffb44709eeaaadb6d10efb9 <http://foo.com/gender> \"M\" .\n",
      "_:N39bb7715b0c34b168c80d1f4d41f998b <http://foo.com/birth_date> \"1960-01-02\" .\n",
      "_:N9f3d6e5315ee4cc78e41e78182bd6f41 <http://foo.com/patient_id> \"10004\"^^<http://www.w3.org/2001/XMLSchema#integer> .\n",
      "_:N9432131d1ffb44709eeaaadb6d10efb9 <http://foo.com/patient_id> \"10009\"^^<http://www.w3.org/2001/XMLSchema#integer> .\n",
      "_:N1e3749cb73474a1a806046c005f96668 <http://foo.com/gender> \"M\" .\n",
      "_:Nec99c0c2012a405cb0e43062bc238f96 <http://foo.com/patient_id> \"10008\"^^<http://www.w3.org/2001/XMLSchema#integer> .\n",
      "_:N3178ff77d74144b587bf67e6f55b3e6a <http://foo.com/gender> \"M\" .\n",
      "\n",
      "\n"
     ]
    }
   ],
   "source": [
    "# print rdf\n",
    "# note that b/c uris weren't defined for individuals blank nodes are created\n",
    "print(g.serialize(format=\"nt\").decode('utf-8'))"
   ]
  },
  {
   "cell_type": "code",
   "execution_count": 34,
   "metadata": {},
   "outputs": [
    {
     "name": "stdout",
     "output_type": "stream",
     "text": [
      "@prefix : <http://foo.com/> .\n",
      "@prefix rdf: <http://www.w3.org/1999/02/22-rdf-syntax-ns#> .\n",
      "@prefix rdfs: <http://www.w3.org/2000/01/rdf-schema#> .\n",
      "@prefix xml: <http://www.w3.org/XML/1998/namespace> .\n",
      "@prefix xsd: <http://www.w3.org/2001/XMLSchema#> .\n",
      "\n",
      "[] :birth_date \"1995-01-10\" ;\n",
      "    :gender \"F\" ;\n",
      "    :patient_id 10010 .\n",
      "\n",
      "[] :birth_date \"1950-01-01\" ;\n",
      "    :gender \"M\" ;\n",
      "    :patient_id 10001 .\n",
      "\n",
      "[] :birth_date \"1990-01-05\" ;\n",
      "    :gender \"M\" ;\n",
      "    :patient_id 10005 .\n",
      "\n",
      "[] :birth_date \"1960-01-02\" ;\n",
      "    :gender \"F\" ;\n",
      "    :patient_id 10002 .\n",
      "\n",
      "[] :birth_date \"1955-01-06\" ;\n",
      "    :gender \"F\" ;\n",
      "    :patient_id 10006 .\n",
      "\n",
      "[] :birth_date \"1970-01-03\" ;\n",
      "    :gender \"M\" ;\n",
      "    :patient_id 10003 .\n",
      "\n",
      "[] :birth_date \"1985-01-09\" ;\n",
      "    :gender \"M\" ;\n",
      "    :patient_id 10009 .\n",
      "\n",
      "[] :birth_date \"1965-01-07\" ;\n",
      "    :gender \"M\" ;\n",
      "    :patient_id 10007 .\n",
      "\n",
      "[] :birth_date \"1980-01-04\" ;\n",
      "    :gender \"F\" ;\n",
      "    :patient_id 10004 .\n",
      "\n",
      "[] :birth_date \"1975-01-08\" ;\n",
      "    :gender \"F\" ;\n",
      "    :patient_id 10008 .\n",
      "\n",
      "\n"
     ]
    }
   ],
   "source": [
    "# out in turtle\n",
    "print(g.serialize(format=\"turtle\").decode('utf-8'))"
   ]
  },
  {
   "cell_type": "code",
   "execution_count": 46,
   "metadata": {},
   "outputs": [
    {
     "ename": "AttributeError",
     "evalue": "'list' object has no attribute 'join'",
     "output_type": "error",
     "traceback": [
      "\u001b[0;31m---------------------------------------------------------------------------\u001b[0m",
      "\u001b[0;31mAttributeError\u001b[0m                            Traceback (most recent call last)",
      "\u001b[0;32m<ipython-input-46-4fcaa593a0d0>\u001b[0m in \u001b[0;36m<module>\u001b[0;34m()\u001b[0m\n\u001b[1;32m      6\u001b[0m     \u001b[0;31m#    OrderedDict([('Index', 0), ('patient_id', 10001), ('gender', 'M'), ('birth_date', '1950-01-01')])\u001b[0m\u001b[0;34m\u001b[0m\u001b[0;34m\u001b[0m\u001b[0m\n\u001b[1;32m      7\u001b[0m     \u001b[0mdata\u001b[0m \u001b[0;34m=\u001b[0m \u001b[0;34m[\u001b[0m\u001b[0;34m'\"%s\":%s'\u001b[0m\u001b[0;34m%\u001b[0m\u001b[0;34m(\u001b[0m\u001b[0mkey\u001b[0m\u001b[0;34m,\u001b[0m \u001b[0mvalue\u001b[0m\u001b[0;34m)\u001b[0m \u001b[0;32mfor\u001b[0m \u001b[0mkey\u001b[0m\u001b[0;34m,\u001b[0m \u001b[0mvalue\u001b[0m \u001b[0;32min\u001b[0m \u001b[0mrow\u001b[0m\u001b[0;34m.\u001b[0m\u001b[0m_asdict\u001b[0m\u001b[0;34m(\u001b[0m\u001b[0;34m)\u001b[0m\u001b[0;34m.\u001b[0m\u001b[0mitems\u001b[0m\u001b[0;34m(\u001b[0m\u001b[0;34m)\u001b[0m\u001b[0;34m]\u001b[0m\u001b[0;34m\u001b[0m\u001b[0m\n\u001b[0;32m----> 8\u001b[0;31m     \u001b[0mdata\u001b[0m \u001b[0;34m=\u001b[0m \u001b[0mdata\u001b[0m\u001b[0;34m.\u001b[0m\u001b[0mjoin\u001b[0m\u001b[0;34m(\u001b[0m\u001b[0;34m','\u001b[0m\u001b[0;34m)\u001b[0m\u001b[0;34m\u001b[0m\u001b[0m\n\u001b[0m\u001b[1;32m      9\u001b[0m \u001b[0;34m\u001b[0m\u001b[0m\n\u001b[1;32m     10\u001b[0m     \u001b[0;31m#use context from above, but since it is one row at time we don't need ConjunctiveGraph\u001b[0m\u001b[0;34m\u001b[0m\u001b[0;34m\u001b[0m\u001b[0m\n",
      "\u001b[0;31mAttributeError\u001b[0m: 'list' object has no attribute 'join'"
     ]
    }
   ],
   "source": [
    "# now lets say we have a big dataset ... lets iterate over the records to create rdf\n",
    "g = Graph()\n",
    "for row in patients.itertuples():\n",
    "    # convert row to dict\n",
    "    # note: you need to use dumps, otherwise you end up an OrderedDict\n",
    "    #    OrderedDict([('Index', 0), ('patient_id', 10001), ('gender', 'M'), ('birth_date', '1950-01-01')])\n",
    "    data = ['\"%s\":%s'%(key, value) for key, value in row._asdict().items()]\n",
    "    data = data.join(',')\n",
    "    \n",
    "    #use context from above, but since it is one row at time we don't need ConjunctiveGraph\n",
    "    doc = \"\"\"\n",
    "    {\n",
    "      %s, %s\n",
    "    }\n",
    "    \"\"\" % (context, data)\n",
    "    print(doc)"
   ]
  },
  {
   "cell_type": "code",
   "execution_count": null,
   "metadata": {},
   "outputs": [],
   "source": []
  }
 ],
 "metadata": {
  "kernelspec": {
   "display_name": "Python 3",
   "language": "python",
   "name": "python3"
  },
  "language_info": {
   "codemirror_mode": {
    "name": "ipython",
    "version": 3
   },
   "file_extension": ".py",
   "mimetype": "text/x-python",
   "name": "python",
   "nbconvert_exporter": "python",
   "pygments_lexer": "ipython3",
   "version": "3.6.6"
  }
 },
 "nbformat": 4,
 "nbformat_minor": 2
}
