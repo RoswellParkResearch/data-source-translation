{
 "cells": [
  {
   "cell_type": "code",
   "execution_count": 71,
   "metadata": {},
   "outputs": [
    {
     "name": "stdout",
     "output_type": "stream",
     "text": [
      "{\n",
      "\"@context\":\n",
      "  {\n",
      "     \"@vocab\": \"http://foo.com/\"\n",
      "  },\n",
      "  \"@id\": \"http://example.com/places#BrewEats\",\n",
      "  \"@type\": \"Restaurant\",\n",
      "  \"name\": [\"Brew Eats\", \"foo\"],\n",
      "   \"databaseId\": \"23987520\"\n",
      "}\n"
     ]
    }
   ],
   "source": [
    "######################################################################\n",
    "# Demo of how to use RDFLib with JSON-LD to translate json to rdf\n",
    "#\n",
    "# reference/intesting links:\n",
    "# https://etl.linkedpipes.com/tutorials/how-to/map_json_to_rdf\n",
    "# https://etl.linkedpipes.com/tutorials/how-to/map_rdf_properties\n",
    "# https://etl.linkedpipes.com/tutorials/csv-to-rdf/describe_semantics\n",
    "# https://github.com/digitalbazaar/pyld\n",
    "######################################################################\n",
    "\n",
    "## requirment make sure rdflib and rdflib-jsonld are installed\n",
    "# conda install -c conda-forge rdflib \n",
    "# conda install -c bioconda rdflib-jsonld \n",
    "\n",
    "# import libraries, not sure the serializer and plugin libs is needed\n",
    "from rdflib import Graph, ConjunctiveGraph, plugin\n",
    "from rdflib.serializer import Serializer\n",
    "from textwrap import dedent\n",
    "import pandas as pds\n",
    "import json\n",
    "\n",
    "# create a simple json doc with a json-ld context\n",
    "doc = \"\"\"{\n",
    "\"@context\":\n",
    "  {\n",
    "     \"@vocab\": \"http://foo.com/\"\n",
    "  },\n",
    "  \"@id\": \"http://example.com/places#BrewEats\",\n",
    "  \"@type\": \"Restaurant\",\n",
    "  \"name\": [\"Brew Eats\", \"foo\"],\n",
    "   \"databaseId\": \"23987520\"\n",
    "}\"\"\"\n",
    "\n",
    "print(doc)"
   ]
  },
  {
   "cell_type": "code",
   "execution_count": 72,
   "metadata": {},
   "outputs": [
    {
     "name": "stdout",
     "output_type": "stream",
     "text": [
      "<http://example.com/places#BrewEats> <http://foo.com/name> \"foo\" .\n",
      "<http://example.com/places#BrewEats> <http://www.w3.org/1999/02/22-rdf-syntax-ns#type> <http://foo.com/Restaurant> .\n",
      "<http://example.com/places#BrewEats> <http://foo.com/name> \"Brew Eats\" .\n",
      "<http://example.com/places#BrewEats> <http://foo.com/databaseId> \"23987520\" .\n",
      "\n",
      "\n"
     ]
    }
   ],
   "source": [
    "# load doc into rdflib and process\n",
    "g = Graph().parse(data=doc, format='json-ld')\n",
    "print(g.serialize(format=\"nt\").decode('utf-8'))\n",
    "\n",
    "## things to note:\n",
    "# - the @vocab sets the default/base prefix to 'htt://foo.com/'\n",
    "# - the base is overriden in BrewEats uri\n",
    "# - in the json doc, the name key has a list of values: [\"Brew Eats\", \"foo\"]\n",
    "#   but the jsonld processor splits the list into multiple triples, \n",
    "# \n",
    "#   <http://example.com/places#BrewEats> <http://foo.com/name> \"Brew Eats\" .\n",
    "#   <http://example.com/places#BrewEats> <http://foo.com/name> \"foo\" .\n",
    "#\n",
    "#   this is good ...  \n"
   ]
  },
  {
   "cell_type": "code",
   "execution_count": 73,
   "metadata": {},
   "outputs": [
    {
     "name": "stdout",
     "output_type": "stream",
     "text": [
      "@prefix : <http://foo.com/> .\n",
      "@prefix rdf: <http://www.w3.org/1999/02/22-rdf-syntax-ns#> .\n",
      "@prefix rdfs: <http://www.w3.org/2000/01/rdf-schema#> .\n",
      "@prefix xml: <http://www.w3.org/XML/1998/namespace> .\n",
      "@prefix xsd: <http://www.w3.org/2001/XMLSchema#> .\n",
      "\n",
      "<http://example.com/places#BrewEats> a :Restaurant ;\n",
      "    :databaseId \"23987520\" ;\n",
      "    :name \"Brew Eats\",\n",
      "        \"foo\" .\n",
      "\n",
      "\n"
     ]
    }
   ],
   "source": [
    "# output in turtle\n",
    "# notice the shortened/abbreviated syntax\n",
    "\n",
    "print(g.serialize(format=\"turtle\").decode('utf-8'))"
   ]
  },
  {
   "cell_type": "code",
   "execution_count": 74,
   "metadata": {},
   "outputs": [
    {
     "name": "stdout",
     "output_type": "stream",
     "text": [
      "\n",
      "{\n",
      "  \"@context\": {\n",
      "    \"dc\": \"http://purl.org/dc/elements/1.1/\",\n",
      "    \"ex\": \"http://example.org/vocab#\",\n",
      "    \"xsd\": \"http://www.w3.org/2001/XMLSchema#\",\n",
      "    \"ex:contains\": {\n",
      "      \"@type\": \"@id\"\n",
      "    }\n",
      "  },\n",
      "  \"@graph\": [\n",
      "    {\n",
      "      \"@id\": \"http://example.org/library\",\n",
      "      \"@type\": \"ex:Library\",\n",
      "      \"ex:contains\": \"http://example.org/library/the-republic\"\n",
      "    },\n",
      "    {\n",
      "      \"@id\": \"http://example.org/library/the-republic\",\n",
      "      \"@type\": \"ex:Book\",\n",
      "      \"dc:creator\": \"Plato\",\n",
      "      \"dc:title\": \"The Republic\",\n",
      "      \"ex:contains\": \"http://example.org/library/the-republic#introduction\"\n",
      "    },\n",
      "    {\n",
      "      \"@id\": \"http://example.org/library/the-republic#introduction\",\n",
      "      \"@type\": \"ex:Chapter\",\n",
      "      \"dc:description\": \"An introductory chapter on The Republic.\",\n",
      "      \"dc:title\": \"The Introduction\"\n",
      "    }\n",
      "  ]\n",
      "}\n",
      "\n"
     ]
    }
   ],
   "source": [
    "# here is a more complex example with multiple records\n",
    "books = \"\"\"\n",
    "{\n",
    "  \"@context\": {\n",
    "    \"dc\": \"http://purl.org/dc/elements/1.1/\",\n",
    "    \"ex\": \"http://example.org/vocab#\",\n",
    "    \"xsd\": \"http://www.w3.org/2001/XMLSchema#\",\n",
    "    \"ex:contains\": {\n",
    "      \"@type\": \"@id\"\n",
    "    }\n",
    "  },\n",
    "  \"@graph\": [\n",
    "    {\n",
    "      \"@id\": \"http://example.org/library\",\n",
    "      \"@type\": \"ex:Library\",\n",
    "      \"ex:contains\": \"http://example.org/library/the-republic\"\n",
    "    },\n",
    "    {\n",
    "      \"@id\": \"http://example.org/library/the-republic\",\n",
    "      \"@type\": \"ex:Book\",\n",
    "      \"dc:creator\": \"Plato\",\n",
    "      \"dc:title\": \"The Republic\",\n",
    "      \"ex:contains\": \"http://example.org/library/the-republic#introduction\"\n",
    "    },\n",
    "    {\n",
    "      \"@id\": \"http://example.org/library/the-republic#introduction\",\n",
    "      \"@type\": \"ex:Chapter\",\n",
    "      \"dc:description\": \"An introductory chapter on The Republic.\",\n",
    "      \"dc:title\": \"The Introduction\"\n",
    "    }\n",
    "  ]\n",
    "}\n",
    "\"\"\"\n",
    "print(books)\n"
   ]
  },
  {
   "cell_type": "code",
   "execution_count": 75,
   "metadata": {},
   "outputs": [
    {
     "name": "stdout",
     "output_type": "stream",
     "text": [
      "<http://example.org/library> <http://www.w3.org/1999/02/22-rdf-syntax-ns#type> <http://example.org/vocab#Library> .\n",
      "<http://example.org/library/the-republic#introduction> <http://purl.org/dc/elements/1.1/description> \"An introductory chapter on The Republic.\" .\n",
      "<http://example.org/library/the-republic#introduction> <http://purl.org/dc/elements/1.1/title> \"The Introduction\" .\n",
      "<http://example.org/library/the-republic> <http://purl.org/dc/elements/1.1/title> \"The Republic\" .\n",
      "<http://example.org/library> <http://example.org/vocab#contains> <http://example.org/library/the-republic> .\n",
      "<http://example.org/library/the-republic> <http://www.w3.org/1999/02/22-rdf-syntax-ns#type> <http://example.org/vocab#Book> .\n",
      "<http://example.org/library/the-republic#introduction> <http://www.w3.org/1999/02/22-rdf-syntax-ns#type> <http://example.org/vocab#Chapter> .\n",
      "<http://example.org/library/the-republic> <http://purl.org/dc/elements/1.1/creator> \"Plato\" .\n",
      "<http://example.org/library/the-republic> <http://example.org/vocab#contains> <http://example.org/library/the-republic#introduction> .\n",
      "\n",
      "\n"
     ]
    }
   ],
   "source": [
    "# because you are using the graph syntax rdflib requires you a *ConjunctiveGraph*\n",
    "# https://rdflib.readthedocs.io/en/stable/apidocs/rdflib.html?highlight=conjunctivegraph#rdflib.graph.ConjunctiveGraph\n",
    "\n",
    "# I had to parse the graph in two steps, instead of single step like above\n",
    "g = ConjunctiveGraph()\n",
    "g.parse(data=books, format='json-ld')\n",
    "\n",
    "# print rdf\n",
    "print(g.serialize(format=\"nt\").decode('utf-8'))\n"
   ]
  },
  {
   "cell_type": "code",
   "execution_count": 76,
   "metadata": {},
   "outputs": [
    {
     "name": "stdout",
     "output_type": "stream",
     "text": [
      "@prefix dc: <http://purl.org/dc/elements/1.1/> .\n",
      "@prefix ex: <http://example.org/vocab#> .\n",
      "@prefix rdf: <http://www.w3.org/1999/02/22-rdf-syntax-ns#> .\n",
      "@prefix rdfs: <http://www.w3.org/2000/01/rdf-schema#> .\n",
      "@prefix xml: <http://www.w3.org/XML/1998/namespace> .\n",
      "@prefix xsd: <http://www.w3.org/2001/XMLSchema#> .\n",
      "\n",
      "<http://example.org/library> a ex:Library ;\n",
      "    ex:contains <http://example.org/library/the-republic> .\n",
      "\n",
      "<http://example.org/library/the-republic> a ex:Book ;\n",
      "    ex:contains <http://example.org/library/the-republic#introduction> ;\n",
      "    dc:creator \"Plato\" ;\n",
      "    dc:title \"The Republic\" .\n",
      "\n",
      "<http://example.org/library/the-republic#introduction> a ex:Chapter ;\n",
      "    dc:description \"An introductory chapter on The Republic.\" ;\n",
      "    dc:title \"The Introduction\" .\n",
      "\n",
      "\n"
     ]
    }
   ],
   "source": [
    "# output in turtle\n",
    "print(g.serialize(format=\"turtle\").decode('utf-8'))"
   ]
  },
  {
   "cell_type": "code",
   "execution_count": 77,
   "metadata": {},
   "outputs": [
    {
     "data": {
      "text/html": [
       "<div>\n",
       "<style scoped>\n",
       "    .dataframe tbody tr th:only-of-type {\n",
       "        vertical-align: middle;\n",
       "    }\n",
       "\n",
       "    .dataframe tbody tr th {\n",
       "        vertical-align: top;\n",
       "    }\n",
       "\n",
       "    .dataframe thead th {\n",
       "        text-align: right;\n",
       "    }\n",
       "</style>\n",
       "<table border=\"1\" class=\"dataframe\">\n",
       "  <thead>\n",
       "    <tr style=\"text-align: right;\">\n",
       "      <th></th>\n",
       "      <th>patient_id</th>\n",
       "      <th>gender</th>\n",
       "      <th>birth_date</th>\n",
       "    </tr>\n",
       "  </thead>\n",
       "  <tbody>\n",
       "    <tr>\n",
       "      <th>0</th>\n",
       "      <td>10001</td>\n",
       "      <td>M</td>\n",
       "      <td>1950-01-01</td>\n",
       "    </tr>\n",
       "    <tr>\n",
       "      <th>1</th>\n",
       "      <td>10002</td>\n",
       "      <td>F</td>\n",
       "      <td>1960-01-02</td>\n",
       "    </tr>\n",
       "    <tr>\n",
       "      <th>2</th>\n",
       "      <td>10003</td>\n",
       "      <td>M</td>\n",
       "      <td>1970-01-03</td>\n",
       "    </tr>\n",
       "  </tbody>\n",
       "</table>\n",
       "</div>"
      ],
      "text/plain": [
       "   patient_id gender  birth_date\n",
       "0       10001      M  1950-01-01\n",
       "1       10002      F  1960-01-02\n",
       "2       10003      M  1970-01-03"
      ]
     },
     "execution_count": 77,
     "metadata": {},
     "output_type": "execute_result"
    }
   ],
   "source": [
    "### now try converting pandas dataframe to rdf using json-ld\n",
    "\n",
    "# load patients dataset\n",
    "# for readability I only work with the first 3 patients\n",
    "patients = pds.ExcelFile('patients_1.xlsx').parse()\n",
    "patients = patients.head(3)\n",
    "patients"
   ]
  },
  {
   "cell_type": "code",
   "execution_count": 78,
   "metadata": {},
   "outputs": [
    {
     "name": "stdout",
     "output_type": "stream",
     "text": [
      "\"[{\\\"patient_id\\\":10001,\\\"gender\\\":\\\"M\\\",\\\"birth_date\\\":\\\"1950-01-01\\\"},{\\\"patient_id\\\":10002,\\\"gender\\\":\\\"F\\\",\\\"birth_date\\\":\\\"1960-01-02\\\"},{\\\"patient_id\\\":10003,\\\"gender\\\":\\\"M\\\",\\\"birth_date\\\":\\\"1970-01-03\\\"}]\"\n"
     ]
    }
   ],
   "source": [
    "# print dataframe as json\n",
    "# 'dumps' stands for 'dump string' and is used for encoding as json; I'm not sure if it is needed ...\n",
    "# https://docs.python.org/3/library/json.html\n",
    "print(json.dumps(patients.to_json(orient='records')))"
   ]
  },
  {
   "cell_type": "code",
   "execution_count": 79,
   "metadata": {},
   "outputs": [
    {
     "name": "stdout",
     "output_type": "stream",
     "text": [
      "\n",
      "{\n",
      "  \n",
      "  \"@context\":\n",
      "  {\n",
      "     \"@vocab\": \"http://foo.com/\"\n",
      "  }\n",
      ",\n",
      "  \"@graph\":\n",
      "  [{\"patient_id\":10001,\"gender\":\"M\",\"birth_date\":\"1950-01-01\"},{\"patient_id\":10002,\"gender\":\"F\",\"birth_date\":\"1960-01-02\"},{\"patient_id\":10003,\"gender\":\"M\",\"birth_date\":\"1970-01-03\"}]\n",
      "}\n",
      "\n"
     ]
    }
   ],
   "source": [
    "# let's create a context\n",
    "context = \"\"\"\n",
    "  \"@context\":\n",
    "  {\n",
    "     \"@vocab\": \"http://foo.com/\"\n",
    "  }\n",
    "\"\"\"\n",
    "\n",
    "# load dataframe as json string\n",
    "# data = json.dumps(patients.to_json(orient='records'))\n",
    "data = patients.to_json(orient='records')\n",
    "    \n",
    "# build context + data json-ld doc\n",
    "# see books json above for example\n",
    "doc = \"\"\"\n",
    "{\n",
    "  %s,\n",
    "  \"@graph\":\n",
    "  %s\n",
    "}\n",
    "\"\"\" % (context, data)\n",
    "\n",
    "print(doc)"
   ]
  },
  {
   "cell_type": "code",
   "execution_count": 80,
   "metadata": {},
   "outputs": [
    {
     "data": {
      "text/plain": [
       "<Graph identifier=N82b6e93964c24df6b3758e1fc795d33b (<class 'rdflib.graph.Graph'>)>"
      ]
     },
     "execution_count": 80,
     "metadata": {},
     "output_type": "execute_result"
    }
   ],
   "source": [
    "# parse graph\n",
    "g = ConjunctiveGraph()\n",
    "g.parse(data=doc, format='json-ld')"
   ]
  },
  {
   "cell_type": "code",
   "execution_count": 81,
   "metadata": {},
   "outputs": [
    {
     "name": "stdout",
     "output_type": "stream",
     "text": [
      "_:N318214c21b5b499aa2c73a32ba551aa2 <http://foo.com/gender> \"F\" .\n",
      "_:N0e5b299e570940c680afa570b530a141 <http://foo.com/gender> \"M\" .\n",
      "_:N0e5b299e570940c680afa570b530a141 <http://foo.com/birth_date> \"1970-01-03\" .\n",
      "_:N3daac528da2845358a62be9d5f20991b <http://foo.com/birth_date> \"1950-01-01\" .\n",
      "_:N3daac528da2845358a62be9d5f20991b <http://foo.com/patient_id> \"10001\"^^<http://www.w3.org/2001/XMLSchema#integer> .\n",
      "_:N318214c21b5b499aa2c73a32ba551aa2 <http://foo.com/patient_id> \"10002\"^^<http://www.w3.org/2001/XMLSchema#integer> .\n",
      "_:N3daac528da2845358a62be9d5f20991b <http://foo.com/gender> \"M\" .\n",
      "_:N318214c21b5b499aa2c73a32ba551aa2 <http://foo.com/birth_date> \"1960-01-02\" .\n",
      "_:N0e5b299e570940c680afa570b530a141 <http://foo.com/patient_id> \"10003\"^^<http://www.w3.org/2001/XMLSchema#integer> .\n",
      "\n",
      "\n"
     ]
    }
   ],
   "source": [
    "# print rdf\n",
    "# note that b/c URIs weren't defined for individuals blank nodes are created\n",
    "print(g.serialize(format=\"nt\").decode('utf-8'))"
   ]
  },
  {
   "cell_type": "code",
   "execution_count": 82,
   "metadata": {},
   "outputs": [
    {
     "name": "stdout",
     "output_type": "stream",
     "text": [
      "@prefix : <http://foo.com/> .\n",
      "@prefix rdf: <http://www.w3.org/1999/02/22-rdf-syntax-ns#> .\n",
      "@prefix rdfs: <http://www.w3.org/2000/01/rdf-schema#> .\n",
      "@prefix xml: <http://www.w3.org/XML/1998/namespace> .\n",
      "@prefix xsd: <http://www.w3.org/2001/XMLSchema#> .\n",
      "\n",
      "[] :birth_date \"1970-01-03\" ;\n",
      "    :gender \"M\" ;\n",
      "    :patient_id 10003 .\n",
      "\n",
      "[] :birth_date \"1960-01-02\" ;\n",
      "    :gender \"F\" ;\n",
      "    :patient_id 10002 .\n",
      "\n",
      "[] :birth_date \"1950-01-01\" ;\n",
      "    :gender \"M\" ;\n",
      "    :patient_id 10001 .\n",
      "\n",
      "\n"
     ]
    }
   ],
   "source": [
    "# output in turtle\n",
    "print(g.serialize(format=\"turtle\").decode('utf-8'))"
   ]
  },
  {
   "cell_type": "code",
   "execution_count": 113,
   "metadata": {},
   "outputs": [
    {
     "name": "stdout",
     "output_type": "stream",
     "text": [
      "{\n",
      "  \"@context\":\n",
      "  {\n",
      "     \"@vocab\": \"http://foo.com/\"\n",
      "  }, \n",
      " \"Index\":\"0\", \n",
      " \"patient_id\":\"10001\", \n",
      " \"gender\":\"M\", \n",
      " \"birth_date\":\"1950-01-01\" \n",
      "}\n",
      "\n",
      "{\n",
      "  \"@context\":\n",
      "  {\n",
      "     \"@vocab\": \"http://foo.com/\"\n",
      "  }, \n",
      " \"Index\":\"1\", \n",
      " \"patient_id\":\"10002\", \n",
      " \"gender\":\"F\", \n",
      " \"birth_date\":\"1960-01-02\" \n",
      "}\n",
      "\n",
      "{\n",
      "  \"@context\":\n",
      "  {\n",
      "     \"@vocab\": \"http://foo.com/\"\n",
      "  }, \n",
      " \"Index\":\"2\", \n",
      " \"patient_id\":\"10003\", \n",
      " \"gender\":\"M\", \n",
      " \"birth_date\":\"1970-01-03\" \n",
      "}\n",
      "\n"
     ]
    }
   ],
   "source": [
    "# now lets say we have a big dataset ... lets iterate over the records to create rdf\n",
    "context = \"\"\"\n",
    "  \"@context\":\n",
    "  {\n",
    "     \"@vocab\": \"http://foo.com/\"\n",
    "  }\"\"\"\n",
    "\n",
    "g = Graph()\n",
    "for row in patients.itertuples():\n",
    "    # convert row into a string of key:value pairs\n",
    "    # note all values have quotes around them ... might not work for all values?\n",
    "    data = ', \\n '.join('\"{key}\":\"{value}\"'.format(key=k, value=v) \n",
    "                                  for (k, v) in row._asdict().items())\n",
    "\n",
    "    # use context from above, but since it is one row at time we don't need ConjunctiveGraph\n",
    "    doc = \"{%s, \\n %s \\n}\" % (context, data)\n",
    "    g.parse(data=doc, format='json-ld')\n",
    "    print(doc+\"\\n\")"
   ]
  },
  {
   "cell_type": "code",
   "execution_count": 112,
   "metadata": {},
   "outputs": [
    {
     "name": "stdout",
     "output_type": "stream",
     "text": [
      "_:Nb36aff57dd3e47a78c63d3659eb4718d <http://foo.com/birth_date> \"1950-01-01\" .\n",
      "_:Nf5b2f594f17843719739e2245967b46b <http://foo.com/birth_date> \"1960-01-02\" .\n",
      "_:Nf5b2f594f17843719739e2245967b46b <http://foo.com/Index> \"1\" .\n",
      "_:Nd8c43963c5a9488fb4dbc29669c993f8 <http://foo.com/patient_id> \"10003\" .\n",
      "_:Nd8c43963c5a9488fb4dbc29669c993f8 <http://foo.com/birth_date> \"1970-01-03\" .\n",
      "_:Nb36aff57dd3e47a78c63d3659eb4718d <http://foo.com/Index> \"0\" .\n",
      "_:Nb36aff57dd3e47a78c63d3659eb4718d <http://foo.com/patient_id> \"10001\" .\n",
      "_:Nb36aff57dd3e47a78c63d3659eb4718d <http://foo.com/gender> \"M\" .\n",
      "_:Nf5b2f594f17843719739e2245967b46b <http://foo.com/patient_id> \"10002\" .\n",
      "_:Nf5b2f594f17843719739e2245967b46b <http://foo.com/gender> \"F\" .\n",
      "_:Nd8c43963c5a9488fb4dbc29669c993f8 <http://foo.com/Index> \"2\" .\n",
      "_:Nd8c43963c5a9488fb4dbc29669c993f8 <http://foo.com/gender> \"M\" .\n",
      "\n",
      "\n"
     ]
    }
   ],
   "source": [
    "# print rdf\n",
    "print(g.serialize(format=\"nt\").decode('utf-8'))"
   ]
  },
  {
   "cell_type": "code",
   "execution_count": 111,
   "metadata": {},
   "outputs": [
    {
     "name": "stdout",
     "output_type": "stream",
     "text": [
      "@prefix : <http://foo.com/> .\n",
      "@prefix rdf: <http://www.w3.org/1999/02/22-rdf-syntax-ns#> .\n",
      "@prefix rdfs: <http://www.w3.org/2000/01/rdf-schema#> .\n",
      "@prefix xml: <http://www.w3.org/XML/1998/namespace> .\n",
      "@prefix xsd: <http://www.w3.org/2001/XMLSchema#> .\n",
      "\n",
      "[] :Index \"0\" ;\n",
      "    :birth_date \"1950-01-01\" ;\n",
      "    :gender \"M\" ;\n",
      "    :patient_id \"10001\" .\n",
      "\n",
      "[] :Index \"2\" ;\n",
      "    :birth_date \"1970-01-03\" ;\n",
      "    :gender \"M\" ;\n",
      "    :patient_id \"10003\" .\n",
      "\n",
      "[] :Index \"1\" ;\n",
      "    :birth_date \"1960-01-02\" ;\n",
      "    :gender \"F\" ;\n",
      "    :patient_id \"10002\" .\n",
      "\n",
      "\n"
     ]
    }
   ],
   "source": [
    "# output in turtle\n",
    "print(g.serialize(format=\"turtle\").decode('utf-8'))"
   ]
  },
  {
   "cell_type": "code",
   "execution_count": 92,
   "metadata": {},
   "outputs": [
    {
     "name": "stdout",
     "output_type": "stream",
     "text": [
      "@prefix : <http://foo.com#> .\n",
      "@prefix ex: <http://example.com#> .\n",
      "@prefix rdf: <http://www.w3.org/1999/02/22-rdf-syntax-ns#> .\n",
      "@prefix rdfs: <http://www.w3.org/2000/01/rdf-schema#> .\n",
      "@prefix rp: <http://purl.roswellpark.org/ontology#> .\n",
      "@prefix xml: <http://www.w3.org/XML/1998/namespace> .\n",
      "@prefix xsd: <http://www.w3.org/2001/XMLSchema#> .\n",
      "\n",
      "<http://example.com/.#record_1> a rp:DE_000000003 ;\n",
      "    rp:DE_000000022 <http://example.com/.#record_1/birth_date>,\n",
      "        <http://example.com/.#record_1/gender>,\n",
      "        <http://example.com/.#record_1/patient_id> .\n",
      "\n",
      "<http://example.com/.#record_1/birth_date> a <http://purl.roswellpark.org/ontology#DE_000000007&birth_date> ;\n",
      "    rp:DE_000000026 \"1950-01-01\" .\n",
      "\n",
      "<http://example.com/.#record_1/gender> a <http://purl.roswellpark.org/ontology#DE_000000007&gender> ;\n",
      "    rp:DE_000000026 \"M\" .\n",
      "\n",
      "<http://example.com/.#record_1/patient_id> a <http://purl.roswellpark.org/ontology#DE_000000007&patient_id> ;\n",
      "    rp:DE_000000026 \"1001\" .\n",
      "\n",
      "\n"
     ]
    }
   ],
   "source": [
    "## simple example of how to implement fields as instances instead of data properties\n",
    "## ?record -[has_field]-> ?field .\n",
    "## ?field -[field_value]-> ?value\n",
    "\n",
    "doc = \"\"\"\n",
    "{\n",
    "  \"@context\":\n",
    "  {\n",
    "    \"@vocab\": \"http://foo.com#\",\n",
    "    \"rp\": \"http://purl.roswellpark.org/ontology#\",\n",
    "    \"ex\": \"http://example.com#\",\n",
    "    \"data_record\": \"rp:DE_000000003\",\n",
    "    \"data_field\": \"rp:DE_000000007&\",\n",
    "    \"patient_id\": \"data_field:patient_id\",\n",
    "    \"gender\": \"data_field:gender\",\n",
    "    \"birth_date\": \"data_field:birth_date\",\n",
    "    \"fv\": \"rp:DE_000000026\",\n",
    "    \"has_field\": \"rp:DE_000000022\"\n",
    "  }, \n",
    " \"@id\": \"ex:record_1\",\n",
    " \"@type\": \"data_record\",\n",
    "  \"has_field\":\n",
    "  [\n",
    "    {\n",
    "      \"@id\": \"ex:record_1/patient_id\",\n",
    "      \"@type\": \"patient_id\",\n",
    "      \"fv\": \"1001\"\n",
    "    },\n",
    "    {\n",
    "      \"@id\": \"ex:record_1/gender\",\n",
    "      \"@type\": \"gender\",\n",
    "      \"fv\":\"M\"\n",
    "    }, \n",
    "    {\n",
    "      \"@id\": \"ex:record_1/birth_date\",\n",
    "      \"@type\": \"birth_date\",\n",
    "      \"fv\": \"1950-01-01\" \n",
    "    }\n",
    "  ]\n",
    "}\"\"\"\n",
    "\n",
    "g = Graph().parse(data=doc, format='json-ld')\n",
    "#print(g.serialize(format=\"nt\").decode('utf-8'))\n",
    "print(g.serialize(format=\"turtle\").decode('utf-8'))  "
   ]
  },
  {
   "cell_type": "code",
   "execution_count": 151,
   "metadata": {},
   "outputs": [
    {
     "name": "stdout",
     "output_type": "stream",
     "text": [
      "{\n",
      "        \n",
      "      \"@context\":\n",
      "      {\n",
      "        \"@vocab\": \"http://foo.com#\",\n",
      "        \"rp\": \"http://purl.roswellpark.org/ontology#\",\n",
      "        \"ex\": \"http://example.com#\",\n",
      "        \"data_record\": \"rp:DE_000000003\",\n",
      "        \"data_field\": \"rp:DE_000000007&\",\n",
      "        \"Index\": \"data_field:Index\",\n",
      "        \"patient_id\": \"data_field:patient_id\",\n",
      "        \"gender\": \"data_field:gender\",\n",
      "        \"birth_date\": \"data_field:birth_date\",\n",
      "        \"fv\": \"rp:DE_000000026\",\n",
      "        \"has_field\": \"rp:DE_000000022\"\n",
      "      },\n",
      "        \"@type\": \"data_record\",\n",
      "        \"has_field\":[ \n",
      "   {\"@type\":\"Index\", \"fv\":\"0\"}, \n",
      "   {\"@type\":\"patient_id\", \"fv\":\"10001\"}, \n",
      "   {\"@type\":\"gender\", \"fv\":\"M\"}, \n",
      "   {\"@type\":\"birth_date\", \"fv\":\"1950-01-01\"} ]\n",
      "      }\n",
      " -------------------- \n",
      "\n",
      "{\n",
      "        \n",
      "      \"@context\":\n",
      "      {\n",
      "        \"@vocab\": \"http://foo.com#\",\n",
      "        \"rp\": \"http://purl.roswellpark.org/ontology#\",\n",
      "        \"ex\": \"http://example.com#\",\n",
      "        \"data_record\": \"rp:DE_000000003\",\n",
      "        \"data_field\": \"rp:DE_000000007&\",\n",
      "        \"Index\": \"data_field:Index\",\n",
      "        \"patient_id\": \"data_field:patient_id\",\n",
      "        \"gender\": \"data_field:gender\",\n",
      "        \"birth_date\": \"data_field:birth_date\",\n",
      "        \"fv\": \"rp:DE_000000026\",\n",
      "        \"has_field\": \"rp:DE_000000022\"\n",
      "      },\n",
      "        \"@type\": \"data_record\",\n",
      "        \"has_field\":[ \n",
      "   {\"@type\":\"Index\", \"fv\":\"1\"}, \n",
      "   {\"@type\":\"patient_id\", \"fv\":\"10002\"}, \n",
      "   {\"@type\":\"gender\", \"fv\":\"F\"}, \n",
      "   {\"@type\":\"birth_date\", \"fv\":\"1960-01-02\"} ]\n",
      "      }\n",
      " -------------------- \n",
      "\n",
      "{\n",
      "        \n",
      "      \"@context\":\n",
      "      {\n",
      "        \"@vocab\": \"http://foo.com#\",\n",
      "        \"rp\": \"http://purl.roswellpark.org/ontology#\",\n",
      "        \"ex\": \"http://example.com#\",\n",
      "        \"data_record\": \"rp:DE_000000003\",\n",
      "        \"data_field\": \"rp:DE_000000007&\",\n",
      "        \"Index\": \"data_field:Index\",\n",
      "        \"patient_id\": \"data_field:patient_id\",\n",
      "        \"gender\": \"data_field:gender\",\n",
      "        \"birth_date\": \"data_field:birth_date\",\n",
      "        \"fv\": \"rp:DE_000000026\",\n",
      "        \"has_field\": \"rp:DE_000000022\"\n",
      "      },\n",
      "        \"@type\": \"data_record\",\n",
      "        \"has_field\":[ \n",
      "   {\"@type\":\"Index\", \"fv\":\"2\"}, \n",
      "   {\"@type\":\"patient_id\", \"fv\":\"10003\"}, \n",
      "   {\"@type\":\"gender\", \"fv\":\"M\"}, \n",
      "   {\"@type\":\"birth_date\", \"fv\":\"1970-01-03\"} ]\n",
      "      }\n",
      " -------------------- \n",
      "\n"
     ]
    }
   ],
   "source": [
    "## now let's iteratere over the data frame and create instances of fields\n",
    "\n",
    "# define a context\n",
    "context = \"\"\"\n",
    "      \"@context\":\n",
    "      {\n",
    "        \"@vocab\": \"http://foo.com#\",\n",
    "        \"rp\": \"http://purl.roswellpark.org/ontology#\",\n",
    "        \"ex\": \"http://example.com#\",\n",
    "        \"data_record\": \"rp:DE_000000003\",\n",
    "        \"data_field\": \"rp:DE_000000007&\",\n",
    "        \"Index\": \"data_field:Index\",\n",
    "        \"patient_id\": \"data_field:patient_id\",\n",
    "        \"gender\": \"data_field:gender\",\n",
    "        \"birth_date\": \"data_field:birth_date\",\n",
    "        \"fv\": \"rp:DE_000000026\",\n",
    "        \"has_field\": \"rp:DE_000000022\"\n",
    "      }\"\"\"\n",
    "    \n",
    "g = Graph()\n",
    "for row in patients.itertuples():\n",
    "    # convert row into a string of key:value pairs\n",
    "    # note all values have quotes around them ... might not work for all values?\n",
    "    data_field = ', \\n   '.join('''{\"@type\":\"%s\", \"fv\":\"%s\"}''' % (k,v) \n",
    "                          for (k, v) in row._asdict().items())\n",
    "\n",
    "    \n",
    "    # use context from above, but since it is one row at time we don't need ConjunctiveGraph\n",
    "    doc = \"\"\"{\n",
    "        %s,\n",
    "        \"@type\": \"data_record\",\n",
    "        \"has_field\":[ \\n   %s ]\n",
    "      }\"\"\" % (context, data_field)\n",
    "    g.parse(data=doc, format='json-ld')\n",
    "    print(doc+\"\\n -------------------- \\n\")"
   ]
  },
  {
   "cell_type": "code",
   "execution_count": 152,
   "metadata": {},
   "outputs": [
    {
     "name": "stdout",
     "output_type": "stream",
     "text": [
      "_:Nfbd56b8877e6463fafea530fd2834387 <http://www.w3.org/1999/02/22-rdf-syntax-ns#type> <http://purl.roswellpark.org/ontology#DE_000000007&birth_date> .\n",
      "_:Nfbd56b8877e6463fafea530fd2834387 <http://purl.roswellpark.org/ontology#DE_000000026> \"1950-01-01\" .\n",
      "_:N71540a15e0c14befab6fc82f7b048b07 <http://www.w3.org/1999/02/22-rdf-syntax-ns#type> <http://purl.roswellpark.org/ontology#DE_000000007&Index> .\n",
      "_:N22c95ea02d034733ad13c5408d90bbec <http://purl.roswellpark.org/ontology#DE_000000026> \"10002\" .\n",
      "_:N9c468e0b9a504c3bb4a82596fab29216 <http://purl.roswellpark.org/ontology#DE_000000026> \"M\" .\n",
      "_:Ndc6fad4d03f947ccb4f4014225b8f9ef <http://purl.roswellpark.org/ontology#DE_000000022> _:Nfbd56b8877e6463fafea530fd2834387 .\n",
      "_:Na92a2483e5594ac2bda7de92b85592f2 <http://purl.roswellpark.org/ontology#DE_000000022> _:N8cad957e401644d289cbe705c86163ed .\n",
      "_:N4c819f8c71844b8187dfd454316c023c <http://purl.roswellpark.org/ontology#DE_000000026> \"10001\" .\n",
      "_:N8cad957e401644d289cbe705c86163ed <http://www.w3.org/1999/02/22-rdf-syntax-ns#type> <http://purl.roswellpark.org/ontology#DE_000000007&patient_id> .\n",
      "_:Nacb4d04592a0422eb82ffdc66c3a6c99 <http://purl.roswellpark.org/ontology#DE_000000026> \"F\" .\n",
      "_:N1cfb1bb5748e4179a1f50139b51b153f <http://purl.roswellpark.org/ontology#DE_000000022> _:N22c95ea02d034733ad13c5408d90bbec .\n",
      "_:N9c468e0b9a504c3bb4a82596fab29216 <http://www.w3.org/1999/02/22-rdf-syntax-ns#type> <http://purl.roswellpark.org/ontology#DE_000000007&gender> .\n",
      "_:N489b08a9f4304d6f89fdfe419d356c39 <http://purl.roswellpark.org/ontology#DE_000000026> \"1970-01-03\" .\n",
      "_:N1238278a0c5a44ae8f83cea58eab6395 <http://www.w3.org/1999/02/22-rdf-syntax-ns#type> <http://purl.roswellpark.org/ontology#DE_000000007&birth_date> .\n",
      "_:Ndc6fad4d03f947ccb4f4014225b8f9ef <http://purl.roswellpark.org/ontology#DE_000000022> _:N4c819f8c71844b8187dfd454316c023c .\n",
      "_:Na92a2483e5594ac2bda7de92b85592f2 <http://purl.roswellpark.org/ontology#DE_000000022> _:Ndceadd2f46414dadb22393abdbe7d651 .\n",
      "_:N2058f0050b334d6497d2361766ab623c <http://www.w3.org/1999/02/22-rdf-syntax-ns#type> <http://purl.roswellpark.org/ontology#DE_000000007&Index> .\n",
      "_:N1cfb1bb5748e4179a1f50139b51b153f <http://purl.roswellpark.org/ontology#DE_000000022> _:N1238278a0c5a44ae8f83cea58eab6395 .\n",
      "_:N22c95ea02d034733ad13c5408d90bbec <http://www.w3.org/1999/02/22-rdf-syntax-ns#type> <http://purl.roswellpark.org/ontology#DE_000000007&patient_id> .\n",
      "_:Nfab7c2ab629a40258778a05c4549a60b <http://purl.roswellpark.org/ontology#DE_000000026> \"2\" .\n",
      "_:N71540a15e0c14befab6fc82f7b048b07 <http://purl.roswellpark.org/ontology#DE_000000026> \"1\" .\n",
      "_:Nacb4d04592a0422eb82ffdc66c3a6c99 <http://www.w3.org/1999/02/22-rdf-syntax-ns#type> <http://purl.roswellpark.org/ontology#DE_000000007&gender> .\n",
      "_:N1cfb1bb5748e4179a1f50139b51b153f <http://www.w3.org/1999/02/22-rdf-syntax-ns#type> <http://purl.roswellpark.org/ontology#DE_000000003> .\n",
      "_:N2058f0050b334d6497d2361766ab623c <http://purl.roswellpark.org/ontology#DE_000000026> \"0\" .\n",
      "_:N8cad957e401644d289cbe705c86163ed <http://purl.roswellpark.org/ontology#DE_000000026> \"10003\" .\n",
      "_:N489b08a9f4304d6f89fdfe419d356c39 <http://www.w3.org/1999/02/22-rdf-syntax-ns#type> <http://purl.roswellpark.org/ontology#DE_000000007&birth_date> .\n",
      "_:Ndceadd2f46414dadb22393abdbe7d651 <http://www.w3.org/1999/02/22-rdf-syntax-ns#type> <http://purl.roswellpark.org/ontology#DE_000000007&gender> .\n",
      "_:Na92a2483e5594ac2bda7de92b85592f2 <http://www.w3.org/1999/02/22-rdf-syntax-ns#type> <http://purl.roswellpark.org/ontology#DE_000000003> .\n",
      "_:Na92a2483e5594ac2bda7de92b85592f2 <http://purl.roswellpark.org/ontology#DE_000000022> _:N489b08a9f4304d6f89fdfe419d356c39 .\n",
      "_:Ndc6fad4d03f947ccb4f4014225b8f9ef <http://www.w3.org/1999/02/22-rdf-syntax-ns#type> <http://purl.roswellpark.org/ontology#DE_000000003> .\n",
      "_:Ndc6fad4d03f947ccb4f4014225b8f9ef <http://purl.roswellpark.org/ontology#DE_000000022> _:N9c468e0b9a504c3bb4a82596fab29216 .\n",
      "_:N1cfb1bb5748e4179a1f50139b51b153f <http://purl.roswellpark.org/ontology#DE_000000022> _:N71540a15e0c14befab6fc82f7b048b07 .\n",
      "_:Na92a2483e5594ac2bda7de92b85592f2 <http://purl.roswellpark.org/ontology#DE_000000022> _:Nfab7c2ab629a40258778a05c4549a60b .\n",
      "_:Ndceadd2f46414dadb22393abdbe7d651 <http://purl.roswellpark.org/ontology#DE_000000026> \"M\" .\n",
      "_:Nfab7c2ab629a40258778a05c4549a60b <http://www.w3.org/1999/02/22-rdf-syntax-ns#type> <http://purl.roswellpark.org/ontology#DE_000000007&Index> .\n",
      "_:N4c819f8c71844b8187dfd454316c023c <http://www.w3.org/1999/02/22-rdf-syntax-ns#type> <http://purl.roswellpark.org/ontology#DE_000000007&patient_id> .\n",
      "_:N1cfb1bb5748e4179a1f50139b51b153f <http://purl.roswellpark.org/ontology#DE_000000022> _:Nacb4d04592a0422eb82ffdc66c3a6c99 .\n",
      "_:Ndc6fad4d03f947ccb4f4014225b8f9ef <http://purl.roswellpark.org/ontology#DE_000000022> _:N2058f0050b334d6497d2361766ab623c .\n",
      "_:N1238278a0c5a44ae8f83cea58eab6395 <http://purl.roswellpark.org/ontology#DE_000000026> \"1960-01-02\" .\n",
      "\n",
      "\n"
     ]
    }
   ],
   "source": [
    "# print rdf\n",
    "# note that since the \"@id\" key was not used blank notes have not been created\n",
    "print(g.serialize(format=\"nt\").decode('utf-8'))"
   ]
  },
  {
   "cell_type": "code",
   "execution_count": 153,
   "metadata": {},
   "outputs": [
    {
     "name": "stdout",
     "output_type": "stream",
     "text": [
      "@prefix : <http://foo.com#> .\n",
      "@prefix ex: <http://example.com#> .\n",
      "@prefix rdf: <http://www.w3.org/1999/02/22-rdf-syntax-ns#> .\n",
      "@prefix rdfs: <http://www.w3.org/2000/01/rdf-schema#> .\n",
      "@prefix rp: <http://purl.roswellpark.org/ontology#> .\n",
      "@prefix xml: <http://www.w3.org/XML/1998/namespace> .\n",
      "@prefix xsd: <http://www.w3.org/2001/XMLSchema#> .\n",
      "\n",
      "[] a rp:DE_000000003 ;\n",
      "    rp:DE_000000022 [ a <http://purl.roswellpark.org/ontology#DE_000000007&birth_date> ;\n",
      "            rp:DE_000000026 \"1960-01-02\" ],\n",
      "        [ a <http://purl.roswellpark.org/ontology#DE_000000007&patient_id> ;\n",
      "            rp:DE_000000026 \"10002\" ],\n",
      "        [ a <http://purl.roswellpark.org/ontology#DE_000000007&Index> ;\n",
      "            rp:DE_000000026 \"1\" ],\n",
      "        [ a <http://purl.roswellpark.org/ontology#DE_000000007&gender> ;\n",
      "            rp:DE_000000026 \"F\" ] .\n",
      "\n",
      "[] a rp:DE_000000003 ;\n",
      "    rp:DE_000000022 [ a <http://purl.roswellpark.org/ontology#DE_000000007&birth_date> ;\n",
      "            rp:DE_000000026 \"1970-01-03\" ],\n",
      "        [ a <http://purl.roswellpark.org/ontology#DE_000000007&patient_id> ;\n",
      "            rp:DE_000000026 \"10003\" ],\n",
      "        [ a <http://purl.roswellpark.org/ontology#DE_000000007&gender> ;\n",
      "            rp:DE_000000026 \"M\" ],\n",
      "        [ a <http://purl.roswellpark.org/ontology#DE_000000007&Index> ;\n",
      "            rp:DE_000000026 \"2\" ] .\n",
      "\n",
      "[] a rp:DE_000000003 ;\n",
      "    rp:DE_000000022 [ a <http://purl.roswellpark.org/ontology#DE_000000007&Index> ;\n",
      "            rp:DE_000000026 \"0\" ],\n",
      "        [ a <http://purl.roswellpark.org/ontology#DE_000000007&patient_id> ;\n",
      "            rp:DE_000000026 \"10001\" ],\n",
      "        [ a <http://purl.roswellpark.org/ontology#DE_000000007&gender> ;\n",
      "            rp:DE_000000026 \"M\" ],\n",
      "        [ a <http://purl.roswellpark.org/ontology#DE_000000007&birth_date> ;\n",
      "            rp:DE_000000026 \"1950-01-01\" ] .\n",
      "\n",
      "\n"
     ]
    }
   ],
   "source": [
    "# output in turtle\n",
    "print(g.serialize(format=\"turtle\").decode('utf-8'))"
   ]
  },
  {
   "cell_type": "code",
   "execution_count": null,
   "metadata": {},
   "outputs": [],
   "source": []
  }
 ],
 "metadata": {
  "kernelspec": {
   "display_name": "Python 3",
   "language": "python",
   "name": "python3"
  },
  "language_info": {
   "codemirror_mode": {
    "name": "ipython",
    "version": 3
   },
   "file_extension": ".py",
   "mimetype": "text/x-python",
   "name": "python",
   "nbconvert_exporter": "python",
   "pygments_lexer": "ipython3",
   "version": "3.6.6"
  }
 },
 "nbformat": 4,
 "nbformat_minor": 2
}
